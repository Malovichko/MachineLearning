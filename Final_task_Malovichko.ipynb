{
  "nbformat": 4,
  "nbformat_minor": 0,
  "metadata": {
    "hide_input": false,
    "kernelspec": {
      "display_name": "Python 3",
      "language": "python",
      "name": "python3"
    },
    "language_info": {
      "codemirror_mode": {
        "name": "ipython",
        "version": 3
      },
      "file_extension": ".py",
      "mimetype": "text/x-python",
      "name": "python",
      "nbconvert_exporter": "python",
      "pygments_lexer": "ipython3",
      "version": "3.7.7"
    },
    "varInspector": {
      "cols": {
        "lenName": 16,
        "lenType": 16,
        "lenVar": 40
      },
      "kernels_config": {
        "python": {
          "delete_cmd_postfix": "",
          "delete_cmd_prefix": "del ",
          "library": "var_list.py",
          "varRefreshCmd": "print(var_dic_list())"
        },
        "r": {
          "delete_cmd_postfix": ") ",
          "delete_cmd_prefix": "rm(",
          "library": "var_list.r",
          "varRefreshCmd": "cat(var_dic_list()) "
        }
      },
      "types_to_exclude": [
        "module",
        "function",
        "builtin_function_or_method",
        "instance",
        "_Feature"
      ],
      "window_display": false
    },
    "colab": {
      "name": "Final_task_Malovichko.ipynb",
      "provenance": [],
      "toc_visible": true
    },
    "widgets": {
      "application/vnd.jupyter.widget-state+json": {
        "564c2ca9f465462db83071470eeb5d05": {
          "model_module": "@jupyter-widgets/controls",
          "model_name": "HBoxModel",
          "state": {
            "_view_name": "HBoxView",
            "_dom_classes": [],
            "_model_name": "HBoxModel",
            "_view_module": "@jupyter-widgets/controls",
            "_model_module_version": "1.5.0",
            "_view_count": null,
            "_view_module_version": "1.5.0",
            "box_style": "",
            "layout": "IPY_MODEL_225fb404b3bd4091b249cf66ddd2a144",
            "_model_module": "@jupyter-widgets/controls",
            "children": [
              "IPY_MODEL_e8b84a5f509a4225bf925b8554ca0972",
              "IPY_MODEL_da4ba485b04644388bdb0f65d241d34f"
            ]
          }
        },
        "225fb404b3bd4091b249cf66ddd2a144": {
          "model_module": "@jupyter-widgets/base",
          "model_name": "LayoutModel",
          "state": {
            "_view_name": "LayoutView",
            "grid_template_rows": null,
            "right": null,
            "justify_content": null,
            "_view_module": "@jupyter-widgets/base",
            "overflow": null,
            "_model_module_version": "1.2.0",
            "_view_count": null,
            "flex_flow": null,
            "width": null,
            "min_width": null,
            "border": null,
            "align_items": null,
            "bottom": null,
            "_model_module": "@jupyter-widgets/base",
            "top": null,
            "grid_column": null,
            "overflow_y": null,
            "overflow_x": null,
            "grid_auto_flow": null,
            "grid_area": null,
            "grid_template_columns": null,
            "flex": null,
            "_model_name": "LayoutModel",
            "justify_items": null,
            "grid_row": null,
            "max_height": null,
            "align_content": null,
            "visibility": null,
            "align_self": null,
            "height": null,
            "min_height": null,
            "padding": null,
            "grid_auto_rows": null,
            "grid_gap": null,
            "max_width": null,
            "order": null,
            "_view_module_version": "1.2.0",
            "grid_template_areas": null,
            "object_position": null,
            "object_fit": null,
            "grid_auto_columns": null,
            "margin": null,
            "display": null,
            "left": null
          }
        },
        "e8b84a5f509a4225bf925b8554ca0972": {
          "model_module": "@jupyter-widgets/controls",
          "model_name": "FloatProgressModel",
          "state": {
            "_view_name": "ProgressView",
            "style": "IPY_MODEL_18d2ab81b3d942aa954d4c6130aa215f",
            "_dom_classes": [],
            "description": "Progress:: 100%",
            "_model_name": "FloatProgressModel",
            "bar_style": "success",
            "max": 8400,
            "_view_module": "@jupyter-widgets/controls",
            "_model_module_version": "1.5.0",
            "value": 8400,
            "_view_count": null,
            "_view_module_version": "1.5.0",
            "orientation": "horizontal",
            "min": 0,
            "description_tooltip": null,
            "_model_module": "@jupyter-widgets/controls",
            "layout": "IPY_MODEL_853216997a984e9f96e916d19d646b8a"
          }
        },
        "da4ba485b04644388bdb0f65d241d34f": {
          "model_module": "@jupyter-widgets/controls",
          "model_name": "HTMLModel",
          "state": {
            "_view_name": "HTMLView",
            "style": "IPY_MODEL_0e5dc984f599451bb70e3ace11a0560f",
            "_dom_classes": [],
            "description": "",
            "_model_name": "HTMLModel",
            "placeholder": "​",
            "_view_module": "@jupyter-widgets/controls",
            "_model_module_version": "1.5.0",
            "value": " 8400/8400 [00:38&lt;00:00, 215.94it/s]",
            "_view_count": null,
            "_view_module_version": "1.5.0",
            "description_tooltip": null,
            "_model_module": "@jupyter-widgets/controls",
            "layout": "IPY_MODEL_0e3c93fcc0a2441da7fe19bccf86128b"
          }
        },
        "18d2ab81b3d942aa954d4c6130aa215f": {
          "model_module": "@jupyter-widgets/controls",
          "model_name": "ProgressStyleModel",
          "state": {
            "_view_name": "StyleView",
            "_model_name": "ProgressStyleModel",
            "description_width": "initial",
            "_view_module": "@jupyter-widgets/base",
            "_model_module_version": "1.5.0",
            "_view_count": null,
            "_view_module_version": "1.2.0",
            "bar_color": null,
            "_model_module": "@jupyter-widgets/controls"
          }
        },
        "853216997a984e9f96e916d19d646b8a": {
          "model_module": "@jupyter-widgets/base",
          "model_name": "LayoutModel",
          "state": {
            "_view_name": "LayoutView",
            "grid_template_rows": null,
            "right": null,
            "justify_content": null,
            "_view_module": "@jupyter-widgets/base",
            "overflow": null,
            "_model_module_version": "1.2.0",
            "_view_count": null,
            "flex_flow": null,
            "width": null,
            "min_width": null,
            "border": null,
            "align_items": null,
            "bottom": null,
            "_model_module": "@jupyter-widgets/base",
            "top": null,
            "grid_column": null,
            "overflow_y": null,
            "overflow_x": null,
            "grid_auto_flow": null,
            "grid_area": null,
            "grid_template_columns": null,
            "flex": null,
            "_model_name": "LayoutModel",
            "justify_items": null,
            "grid_row": null,
            "max_height": null,
            "align_content": null,
            "visibility": null,
            "align_self": null,
            "height": null,
            "min_height": null,
            "padding": null,
            "grid_auto_rows": null,
            "grid_gap": null,
            "max_width": null,
            "order": null,
            "_view_module_version": "1.2.0",
            "grid_template_areas": null,
            "object_position": null,
            "object_fit": null,
            "grid_auto_columns": null,
            "margin": null,
            "display": null,
            "left": null
          }
        },
        "0e5dc984f599451bb70e3ace11a0560f": {
          "model_module": "@jupyter-widgets/controls",
          "model_name": "DescriptionStyleModel",
          "state": {
            "_view_name": "StyleView",
            "_model_name": "DescriptionStyleModel",
            "description_width": "",
            "_view_module": "@jupyter-widgets/base",
            "_model_module_version": "1.5.0",
            "_view_count": null,
            "_view_module_version": "1.2.0",
            "_model_module": "@jupyter-widgets/controls"
          }
        },
        "0e3c93fcc0a2441da7fe19bccf86128b": {
          "model_module": "@jupyter-widgets/base",
          "model_name": "LayoutModel",
          "state": {
            "_view_name": "LayoutView",
            "grid_template_rows": null,
            "right": null,
            "justify_content": null,
            "_view_module": "@jupyter-widgets/base",
            "overflow": null,
            "_model_module_version": "1.2.0",
            "_view_count": null,
            "flex_flow": null,
            "width": null,
            "min_width": null,
            "border": null,
            "align_items": null,
            "bottom": null,
            "_model_module": "@jupyter-widgets/base",
            "top": null,
            "grid_column": null,
            "overflow_y": null,
            "overflow_x": null,
            "grid_auto_flow": null,
            "grid_area": null,
            "grid_template_columns": null,
            "flex": null,
            "_model_name": "LayoutModel",
            "justify_items": null,
            "grid_row": null,
            "max_height": null,
            "align_content": null,
            "visibility": null,
            "align_self": null,
            "height": null,
            "min_height": null,
            "padding": null,
            "grid_auto_rows": null,
            "grid_gap": null,
            "max_width": null,
            "order": null,
            "_view_module_version": "1.2.0",
            "grid_template_areas": null,
            "object_position": null,
            "object_fit": null,
            "grid_auto_columns": null,
            "margin": null,
            "display": null,
            "left": null
          }
        },
        "b1d71140454446a696f99753169c9dd3": {
          "model_module": "@jupyter-widgets/controls",
          "model_name": "HBoxModel",
          "state": {
            "_view_name": "HBoxView",
            "_dom_classes": [],
            "_model_name": "HBoxModel",
            "_view_module": "@jupyter-widgets/controls",
            "_model_module_version": "1.5.0",
            "_view_count": null,
            "_view_module_version": "1.5.0",
            "box_style": "",
            "layout": "IPY_MODEL_34ef4224472645538ce10a32154fe90b",
            "_model_module": "@jupyter-widgets/controls",
            "children": [
              "IPY_MODEL_81bafcb86a66473e86c82fc36996b5bb",
              "IPY_MODEL_f5f0d9ab2f9f4a47921e53f10f31b3b4"
            ]
          }
        },
        "34ef4224472645538ce10a32154fe90b": {
          "model_module": "@jupyter-widgets/base",
          "model_name": "LayoutModel",
          "state": {
            "_view_name": "LayoutView",
            "grid_template_rows": null,
            "right": null,
            "justify_content": null,
            "_view_module": "@jupyter-widgets/base",
            "overflow": null,
            "_model_module_version": "1.2.0",
            "_view_count": null,
            "flex_flow": null,
            "width": null,
            "min_width": null,
            "border": null,
            "align_items": null,
            "bottom": null,
            "_model_module": "@jupyter-widgets/base",
            "top": null,
            "grid_column": null,
            "overflow_y": null,
            "overflow_x": null,
            "grid_auto_flow": null,
            "grid_area": null,
            "grid_template_columns": null,
            "flex": null,
            "_model_name": "LayoutModel",
            "justify_items": null,
            "grid_row": null,
            "max_height": null,
            "align_content": null,
            "visibility": null,
            "align_self": null,
            "height": null,
            "min_height": null,
            "padding": null,
            "grid_auto_rows": null,
            "grid_gap": null,
            "max_width": null,
            "order": null,
            "_view_module_version": "1.2.0",
            "grid_template_areas": null,
            "object_position": null,
            "object_fit": null,
            "grid_auto_columns": null,
            "margin": null,
            "display": null,
            "left": null
          }
        },
        "81bafcb86a66473e86c82fc36996b5bb": {
          "model_module": "@jupyter-widgets/controls",
          "model_name": "FloatProgressModel",
          "state": {
            "_view_name": "ProgressView",
            "style": "IPY_MODEL_415f3bbedaee48df934f1992b1019a36",
            "_dom_classes": [],
            "description": "Progress:: 100%",
            "_model_name": "FloatProgressModel",
            "bar_style": "success",
            "max": 3600,
            "_view_module": "@jupyter-widgets/controls",
            "_model_module_version": "1.5.0",
            "value": 3600,
            "_view_count": null,
            "_view_module_version": "1.5.0",
            "orientation": "horizontal",
            "min": 0,
            "description_tooltip": null,
            "_model_module": "@jupyter-widgets/controls",
            "layout": "IPY_MODEL_7a869f00f3ab49a6ab1399eeaf063e4d"
          }
        },
        "f5f0d9ab2f9f4a47921e53f10f31b3b4": {
          "model_module": "@jupyter-widgets/controls",
          "model_name": "HTMLModel",
          "state": {
            "_view_name": "HTMLView",
            "style": "IPY_MODEL_4004632091824bfda6e5341d7a3f41a9",
            "_dom_classes": [],
            "description": "",
            "_model_name": "HTMLModel",
            "placeholder": "​",
            "_view_module": "@jupyter-widgets/controls",
            "_model_module_version": "1.5.0",
            "value": " 3600/3600 [04:59&lt;00:00, 12.01it/s]",
            "_view_count": null,
            "_view_module_version": "1.5.0",
            "description_tooltip": null,
            "_model_module": "@jupyter-widgets/controls",
            "layout": "IPY_MODEL_cfdf4338eaeb4f419543b0a575ac3f7c"
          }
        },
        "415f3bbedaee48df934f1992b1019a36": {
          "model_module": "@jupyter-widgets/controls",
          "model_name": "ProgressStyleModel",
          "state": {
            "_view_name": "StyleView",
            "_model_name": "ProgressStyleModel",
            "description_width": "initial",
            "_view_module": "@jupyter-widgets/base",
            "_model_module_version": "1.5.0",
            "_view_count": null,
            "_view_module_version": "1.2.0",
            "bar_color": null,
            "_model_module": "@jupyter-widgets/controls"
          }
        },
        "7a869f00f3ab49a6ab1399eeaf063e4d": {
          "model_module": "@jupyter-widgets/base",
          "model_name": "LayoutModel",
          "state": {
            "_view_name": "LayoutView",
            "grid_template_rows": null,
            "right": null,
            "justify_content": null,
            "_view_module": "@jupyter-widgets/base",
            "overflow": null,
            "_model_module_version": "1.2.0",
            "_view_count": null,
            "flex_flow": null,
            "width": null,
            "min_width": null,
            "border": null,
            "align_items": null,
            "bottom": null,
            "_model_module": "@jupyter-widgets/base",
            "top": null,
            "grid_column": null,
            "overflow_y": null,
            "overflow_x": null,
            "grid_auto_flow": null,
            "grid_area": null,
            "grid_template_columns": null,
            "flex": null,
            "_model_name": "LayoutModel",
            "justify_items": null,
            "grid_row": null,
            "max_height": null,
            "align_content": null,
            "visibility": null,
            "align_self": null,
            "height": null,
            "min_height": null,
            "padding": null,
            "grid_auto_rows": null,
            "grid_gap": null,
            "max_width": null,
            "order": null,
            "_view_module_version": "1.2.0",
            "grid_template_areas": null,
            "object_position": null,
            "object_fit": null,
            "grid_auto_columns": null,
            "margin": null,
            "display": null,
            "left": null
          }
        },
        "4004632091824bfda6e5341d7a3f41a9": {
          "model_module": "@jupyter-widgets/controls",
          "model_name": "DescriptionStyleModel",
          "state": {
            "_view_name": "StyleView",
            "_model_name": "DescriptionStyleModel",
            "description_width": "",
            "_view_module": "@jupyter-widgets/base",
            "_model_module_version": "1.5.0",
            "_view_count": null,
            "_view_module_version": "1.2.0",
            "_model_module": "@jupyter-widgets/controls"
          }
        },
        "cfdf4338eaeb4f419543b0a575ac3f7c": {
          "model_module": "@jupyter-widgets/base",
          "model_name": "LayoutModel",
          "state": {
            "_view_name": "LayoutView",
            "grid_template_rows": null,
            "right": null,
            "justify_content": null,
            "_view_module": "@jupyter-widgets/base",
            "overflow": null,
            "_model_module_version": "1.2.0",
            "_view_count": null,
            "flex_flow": null,
            "width": null,
            "min_width": null,
            "border": null,
            "align_items": null,
            "bottom": null,
            "_model_module": "@jupyter-widgets/base",
            "top": null,
            "grid_column": null,
            "overflow_y": null,
            "overflow_x": null,
            "grid_auto_flow": null,
            "grid_area": null,
            "grid_template_columns": null,
            "flex": null,
            "_model_name": "LayoutModel",
            "justify_items": null,
            "grid_row": null,
            "max_height": null,
            "align_content": null,
            "visibility": null,
            "align_self": null,
            "height": null,
            "min_height": null,
            "padding": null,
            "grid_auto_rows": null,
            "grid_gap": null,
            "max_width": null,
            "order": null,
            "_view_module_version": "1.2.0",
            "grid_template_areas": null,
            "object_position": null,
            "object_fit": null,
            "grid_auto_columns": null,
            "margin": null,
            "display": null,
            "left": null
          }
        },
        "4f93b86a5e1e48d5b7ec2285abc949c5": {
          "model_module": "@jupyter-widgets/controls",
          "model_name": "HBoxModel",
          "state": {
            "_view_name": "HBoxView",
            "_dom_classes": [],
            "_model_name": "HBoxModel",
            "_view_module": "@jupyter-widgets/controls",
            "_model_module_version": "1.5.0",
            "_view_count": null,
            "_view_module_version": "1.5.0",
            "box_style": "",
            "layout": "IPY_MODEL_6293fce6e74e47a981c97936fc5233e5",
            "_model_module": "@jupyter-widgets/controls",
            "children": [
              "IPY_MODEL_387eaa9337a1483ba588c34b93ec79e6",
              "IPY_MODEL_43a794994d024e2c9e137aa614a7bbb1"
            ]
          }
        },
        "6293fce6e74e47a981c97936fc5233e5": {
          "model_module": "@jupyter-widgets/base",
          "model_name": "LayoutModel",
          "state": {
            "_view_name": "LayoutView",
            "grid_template_rows": null,
            "right": null,
            "justify_content": null,
            "_view_module": "@jupyter-widgets/base",
            "overflow": null,
            "_model_module_version": "1.2.0",
            "_view_count": null,
            "flex_flow": null,
            "width": null,
            "min_width": null,
            "border": null,
            "align_items": null,
            "bottom": null,
            "_model_module": "@jupyter-widgets/base",
            "top": null,
            "grid_column": null,
            "overflow_y": null,
            "overflow_x": null,
            "grid_auto_flow": null,
            "grid_area": null,
            "grid_template_columns": null,
            "flex": null,
            "_model_name": "LayoutModel",
            "justify_items": null,
            "grid_row": null,
            "max_height": null,
            "align_content": null,
            "visibility": null,
            "align_self": null,
            "height": null,
            "min_height": null,
            "padding": null,
            "grid_auto_rows": null,
            "grid_gap": null,
            "max_width": null,
            "order": null,
            "_view_module_version": "1.2.0",
            "grid_template_areas": null,
            "object_position": null,
            "object_fit": null,
            "grid_auto_columns": null,
            "margin": null,
            "display": null,
            "left": null
          }
        },
        "387eaa9337a1483ba588c34b93ec79e6": {
          "model_module": "@jupyter-widgets/controls",
          "model_name": "FloatProgressModel",
          "state": {
            "_view_name": "ProgressView",
            "style": "IPY_MODEL_61dd9303f36f4245a126451850d231ad",
            "_dom_classes": [],
            "description": "Progress:: 100%",
            "_model_name": "FloatProgressModel",
            "bar_style": "success",
            "max": 8400,
            "_view_module": "@jupyter-widgets/controls",
            "_model_module_version": "1.5.0",
            "value": 8400,
            "_view_count": null,
            "_view_module_version": "1.5.0",
            "orientation": "horizontal",
            "min": 0,
            "description_tooltip": null,
            "_model_module": "@jupyter-widgets/controls",
            "layout": "IPY_MODEL_ea8b370328bf4a2f996480a2fbe8ee8d"
          }
        },
        "43a794994d024e2c9e137aa614a7bbb1": {
          "model_module": "@jupyter-widgets/controls",
          "model_name": "HTMLModel",
          "state": {
            "_view_name": "HTMLView",
            "style": "IPY_MODEL_6066248225184ea6a99c6b513f8f6a85",
            "_dom_classes": [],
            "description": "",
            "_model_name": "HTMLModel",
            "placeholder": "​",
            "_view_module": "@jupyter-widgets/controls",
            "_model_module_version": "1.5.0",
            "value": " 8400/8400 [01:31&lt;00:00, 91.73it/s]",
            "_view_count": null,
            "_view_module_version": "1.5.0",
            "description_tooltip": null,
            "_model_module": "@jupyter-widgets/controls",
            "layout": "IPY_MODEL_67cadc7b94144bf1812ed2c74005efb7"
          }
        },
        "61dd9303f36f4245a126451850d231ad": {
          "model_module": "@jupyter-widgets/controls",
          "model_name": "ProgressStyleModel",
          "state": {
            "_view_name": "StyleView",
            "_model_name": "ProgressStyleModel",
            "description_width": "initial",
            "_view_module": "@jupyter-widgets/base",
            "_model_module_version": "1.5.0",
            "_view_count": null,
            "_view_module_version": "1.2.0",
            "bar_color": null,
            "_model_module": "@jupyter-widgets/controls"
          }
        },
        "ea8b370328bf4a2f996480a2fbe8ee8d": {
          "model_module": "@jupyter-widgets/base",
          "model_name": "LayoutModel",
          "state": {
            "_view_name": "LayoutView",
            "grid_template_rows": null,
            "right": null,
            "justify_content": null,
            "_view_module": "@jupyter-widgets/base",
            "overflow": null,
            "_model_module_version": "1.2.0",
            "_view_count": null,
            "flex_flow": null,
            "width": null,
            "min_width": null,
            "border": null,
            "align_items": null,
            "bottom": null,
            "_model_module": "@jupyter-widgets/base",
            "top": null,
            "grid_column": null,
            "overflow_y": null,
            "overflow_x": null,
            "grid_auto_flow": null,
            "grid_area": null,
            "grid_template_columns": null,
            "flex": null,
            "_model_name": "LayoutModel",
            "justify_items": null,
            "grid_row": null,
            "max_height": null,
            "align_content": null,
            "visibility": null,
            "align_self": null,
            "height": null,
            "min_height": null,
            "padding": null,
            "grid_auto_rows": null,
            "grid_gap": null,
            "max_width": null,
            "order": null,
            "_view_module_version": "1.2.0",
            "grid_template_areas": null,
            "object_position": null,
            "object_fit": null,
            "grid_auto_columns": null,
            "margin": null,
            "display": null,
            "left": null
          }
        },
        "6066248225184ea6a99c6b513f8f6a85": {
          "model_module": "@jupyter-widgets/controls",
          "model_name": "DescriptionStyleModel",
          "state": {
            "_view_name": "StyleView",
            "_model_name": "DescriptionStyleModel",
            "description_width": "",
            "_view_module": "@jupyter-widgets/base",
            "_model_module_version": "1.5.0",
            "_view_count": null,
            "_view_module_version": "1.2.0",
            "_model_module": "@jupyter-widgets/controls"
          }
        },
        "67cadc7b94144bf1812ed2c74005efb7": {
          "model_module": "@jupyter-widgets/base",
          "model_name": "LayoutModel",
          "state": {
            "_view_name": "LayoutView",
            "grid_template_rows": null,
            "right": null,
            "justify_content": null,
            "_view_module": "@jupyter-widgets/base",
            "overflow": null,
            "_model_module_version": "1.2.0",
            "_view_count": null,
            "flex_flow": null,
            "width": null,
            "min_width": null,
            "border": null,
            "align_items": null,
            "bottom": null,
            "_model_module": "@jupyter-widgets/base",
            "top": null,
            "grid_column": null,
            "overflow_y": null,
            "overflow_x": null,
            "grid_auto_flow": null,
            "grid_area": null,
            "grid_template_columns": null,
            "flex": null,
            "_model_name": "LayoutModel",
            "justify_items": null,
            "grid_row": null,
            "max_height": null,
            "align_content": null,
            "visibility": null,
            "align_self": null,
            "height": null,
            "min_height": null,
            "padding": null,
            "grid_auto_rows": null,
            "grid_gap": null,
            "max_width": null,
            "order": null,
            "_view_module_version": "1.2.0",
            "grid_template_areas": null,
            "object_position": null,
            "object_fit": null,
            "grid_auto_columns": null,
            "margin": null,
            "display": null,
            "left": null
          }
        },
        "ccd50b1d63294918b423dd2ee06b442a": {
          "model_module": "@jupyter-widgets/controls",
          "model_name": "HBoxModel",
          "state": {
            "_view_name": "HBoxView",
            "_dom_classes": [],
            "_model_name": "HBoxModel",
            "_view_module": "@jupyter-widgets/controls",
            "_model_module_version": "1.5.0",
            "_view_count": null,
            "_view_module_version": "1.5.0",
            "box_style": "",
            "layout": "IPY_MODEL_0f8fd4138cba4f098f607b160e03ae1e",
            "_model_module": "@jupyter-widgets/controls",
            "children": [
              "IPY_MODEL_7af97f278b794e46912f075dd8edc7c9",
              "IPY_MODEL_d94fdaa178694784a85f89ec4e98dd20"
            ]
          }
        },
        "0f8fd4138cba4f098f607b160e03ae1e": {
          "model_module": "@jupyter-widgets/base",
          "model_name": "LayoutModel",
          "state": {
            "_view_name": "LayoutView",
            "grid_template_rows": null,
            "right": null,
            "justify_content": null,
            "_view_module": "@jupyter-widgets/base",
            "overflow": null,
            "_model_module_version": "1.2.0",
            "_view_count": null,
            "flex_flow": null,
            "width": null,
            "min_width": null,
            "border": null,
            "align_items": null,
            "bottom": null,
            "_model_module": "@jupyter-widgets/base",
            "top": null,
            "grid_column": null,
            "overflow_y": null,
            "overflow_x": null,
            "grid_auto_flow": null,
            "grid_area": null,
            "grid_template_columns": null,
            "flex": null,
            "_model_name": "LayoutModel",
            "justify_items": null,
            "grid_row": null,
            "max_height": null,
            "align_content": null,
            "visibility": null,
            "align_self": null,
            "height": null,
            "min_height": null,
            "padding": null,
            "grid_auto_rows": null,
            "grid_gap": null,
            "max_width": null,
            "order": null,
            "_view_module_version": "1.2.0",
            "grid_template_areas": null,
            "object_position": null,
            "object_fit": null,
            "grid_auto_columns": null,
            "margin": null,
            "display": null,
            "left": null
          }
        },
        "7af97f278b794e46912f075dd8edc7c9": {
          "model_module": "@jupyter-widgets/controls",
          "model_name": "FloatProgressModel",
          "state": {
            "_view_name": "ProgressView",
            "style": "IPY_MODEL_03f6fb15a6b54820a5cc87b8c9eecb34",
            "_dom_classes": [],
            "description": "Progress:: 100%",
            "_model_name": "FloatProgressModel",
            "bar_style": "success",
            "max": 3600,
            "_view_module": "@jupyter-widgets/controls",
            "_model_module_version": "1.5.0",
            "value": 3600,
            "_view_count": null,
            "_view_module_version": "1.5.0",
            "orientation": "horizontal",
            "min": 0,
            "description_tooltip": null,
            "_model_module": "@jupyter-widgets/controls",
            "layout": "IPY_MODEL_7bede184ae8b463f86726e5917018796"
          }
        },
        "d94fdaa178694784a85f89ec4e98dd20": {
          "model_module": "@jupyter-widgets/controls",
          "model_name": "HTMLModel",
          "state": {
            "_view_name": "HTMLView",
            "style": "IPY_MODEL_ed4b0145ae924564a24b8759f9b01a11",
            "_dom_classes": [],
            "description": "",
            "_model_name": "HTMLModel",
            "placeholder": "​",
            "_view_module": "@jupyter-widgets/controls",
            "_model_module_version": "1.5.0",
            "value": " 3600/3600 [03:29&lt;00:00, 17.22it/s]",
            "_view_count": null,
            "_view_module_version": "1.5.0",
            "description_tooltip": null,
            "_model_module": "@jupyter-widgets/controls",
            "layout": "IPY_MODEL_ff52ab2d3d16411ba9570e1d636462a4"
          }
        },
        "03f6fb15a6b54820a5cc87b8c9eecb34": {
          "model_module": "@jupyter-widgets/controls",
          "model_name": "ProgressStyleModel",
          "state": {
            "_view_name": "StyleView",
            "_model_name": "ProgressStyleModel",
            "description_width": "initial",
            "_view_module": "@jupyter-widgets/base",
            "_model_module_version": "1.5.0",
            "_view_count": null,
            "_view_module_version": "1.2.0",
            "bar_color": null,
            "_model_module": "@jupyter-widgets/controls"
          }
        },
        "7bede184ae8b463f86726e5917018796": {
          "model_module": "@jupyter-widgets/base",
          "model_name": "LayoutModel",
          "state": {
            "_view_name": "LayoutView",
            "grid_template_rows": null,
            "right": null,
            "justify_content": null,
            "_view_module": "@jupyter-widgets/base",
            "overflow": null,
            "_model_module_version": "1.2.0",
            "_view_count": null,
            "flex_flow": null,
            "width": null,
            "min_width": null,
            "border": null,
            "align_items": null,
            "bottom": null,
            "_model_module": "@jupyter-widgets/base",
            "top": null,
            "grid_column": null,
            "overflow_y": null,
            "overflow_x": null,
            "grid_auto_flow": null,
            "grid_area": null,
            "grid_template_columns": null,
            "flex": null,
            "_model_name": "LayoutModel",
            "justify_items": null,
            "grid_row": null,
            "max_height": null,
            "align_content": null,
            "visibility": null,
            "align_self": null,
            "height": null,
            "min_height": null,
            "padding": null,
            "grid_auto_rows": null,
            "grid_gap": null,
            "max_width": null,
            "order": null,
            "_view_module_version": "1.2.0",
            "grid_template_areas": null,
            "object_position": null,
            "object_fit": null,
            "grid_auto_columns": null,
            "margin": null,
            "display": null,
            "left": null
          }
        },
        "ed4b0145ae924564a24b8759f9b01a11": {
          "model_module": "@jupyter-widgets/controls",
          "model_name": "DescriptionStyleModel",
          "state": {
            "_view_name": "StyleView",
            "_model_name": "DescriptionStyleModel",
            "description_width": "",
            "_view_module": "@jupyter-widgets/base",
            "_model_module_version": "1.5.0",
            "_view_count": null,
            "_view_module_version": "1.2.0",
            "_model_module": "@jupyter-widgets/controls"
          }
        },
        "ff52ab2d3d16411ba9570e1d636462a4": {
          "model_module": "@jupyter-widgets/base",
          "model_name": "LayoutModel",
          "state": {
            "_view_name": "LayoutView",
            "grid_template_rows": null,
            "right": null,
            "justify_content": null,
            "_view_module": "@jupyter-widgets/base",
            "overflow": null,
            "_model_module_version": "1.2.0",
            "_view_count": null,
            "flex_flow": null,
            "width": null,
            "min_width": null,
            "border": null,
            "align_items": null,
            "bottom": null,
            "_model_module": "@jupyter-widgets/base",
            "top": null,
            "grid_column": null,
            "overflow_y": null,
            "overflow_x": null,
            "grid_auto_flow": null,
            "grid_area": null,
            "grid_template_columns": null,
            "flex": null,
            "_model_name": "LayoutModel",
            "justify_items": null,
            "grid_row": null,
            "max_height": null,
            "align_content": null,
            "visibility": null,
            "align_self": null,
            "height": null,
            "min_height": null,
            "padding": null,
            "grid_auto_rows": null,
            "grid_gap": null,
            "max_width": null,
            "order": null,
            "_view_module_version": "1.2.0",
            "grid_template_areas": null,
            "object_position": null,
            "object_fit": null,
            "grid_auto_columns": null,
            "margin": null,
            "display": null,
            "left": null
          }
        },
        "79a59c2e31384514ad1279f796d56bfe": {
          "model_module": "@jupyter-widgets/controls",
          "model_name": "HBoxModel",
          "state": {
            "_view_name": "HBoxView",
            "_dom_classes": [],
            "_model_name": "HBoxModel",
            "_view_module": "@jupyter-widgets/controls",
            "_model_module_version": "1.5.0",
            "_view_count": null,
            "_view_module_version": "1.5.0",
            "box_style": "",
            "layout": "IPY_MODEL_fe0f86c9c65a4f4c8e10691ed951eb21",
            "_model_module": "@jupyter-widgets/controls",
            "children": [
              "IPY_MODEL_6561b8185aa64391ac1d0de37334412e",
              "IPY_MODEL_247d94cb5c3748e7a4618d1683eafe5f"
            ]
          }
        },
        "fe0f86c9c65a4f4c8e10691ed951eb21": {
          "model_module": "@jupyter-widgets/base",
          "model_name": "LayoutModel",
          "state": {
            "_view_name": "LayoutView",
            "grid_template_rows": null,
            "right": null,
            "justify_content": null,
            "_view_module": "@jupyter-widgets/base",
            "overflow": null,
            "_model_module_version": "1.2.0",
            "_view_count": null,
            "flex_flow": null,
            "width": null,
            "min_width": null,
            "border": null,
            "align_items": null,
            "bottom": null,
            "_model_module": "@jupyter-widgets/base",
            "top": null,
            "grid_column": null,
            "overflow_y": null,
            "overflow_x": null,
            "grid_auto_flow": null,
            "grid_area": null,
            "grid_template_columns": null,
            "flex": null,
            "_model_name": "LayoutModel",
            "justify_items": null,
            "grid_row": null,
            "max_height": null,
            "align_content": null,
            "visibility": null,
            "align_self": null,
            "height": null,
            "min_height": null,
            "padding": null,
            "grid_auto_rows": null,
            "grid_gap": null,
            "max_width": null,
            "order": null,
            "_view_module_version": "1.2.0",
            "grid_template_areas": null,
            "object_position": null,
            "object_fit": null,
            "grid_auto_columns": null,
            "margin": null,
            "display": null,
            "left": null
          }
        },
        "6561b8185aa64391ac1d0de37334412e": {
          "model_module": "@jupyter-widgets/controls",
          "model_name": "FloatProgressModel",
          "state": {
            "_view_name": "ProgressView",
            "style": "IPY_MODEL_f5314a8d01884f24918efd346cefaf13",
            "_dom_classes": [],
            "description": "Progress:: 100%",
            "_model_name": "FloatProgressModel",
            "bar_style": "success",
            "max": 8400,
            "_view_module": "@jupyter-widgets/controls",
            "_model_module_version": "1.5.0",
            "value": 8400,
            "_view_count": null,
            "_view_module_version": "1.5.0",
            "orientation": "horizontal",
            "min": 0,
            "description_tooltip": null,
            "_model_module": "@jupyter-widgets/controls",
            "layout": "IPY_MODEL_5e09f9ba8ae746cd9388a566082aaf22"
          }
        },
        "247d94cb5c3748e7a4618d1683eafe5f": {
          "model_module": "@jupyter-widgets/controls",
          "model_name": "HTMLModel",
          "state": {
            "_view_name": "HTMLView",
            "style": "IPY_MODEL_d16f7f04527045f6ac045e2f217adab8",
            "_dom_classes": [],
            "description": "",
            "_model_name": "HTMLModel",
            "placeholder": "​",
            "_view_module": "@jupyter-widgets/controls",
            "_model_module_version": "1.5.0",
            "value": " 8400/8400 [01:46&lt;00:00, 78.96it/s]",
            "_view_count": null,
            "_view_module_version": "1.5.0",
            "description_tooltip": null,
            "_model_module": "@jupyter-widgets/controls",
            "layout": "IPY_MODEL_48eaf90eddc649259903117cb0d85be1"
          }
        },
        "f5314a8d01884f24918efd346cefaf13": {
          "model_module": "@jupyter-widgets/controls",
          "model_name": "ProgressStyleModel",
          "state": {
            "_view_name": "StyleView",
            "_model_name": "ProgressStyleModel",
            "description_width": "initial",
            "_view_module": "@jupyter-widgets/base",
            "_model_module_version": "1.5.0",
            "_view_count": null,
            "_view_module_version": "1.2.0",
            "bar_color": null,
            "_model_module": "@jupyter-widgets/controls"
          }
        },
        "5e09f9ba8ae746cd9388a566082aaf22": {
          "model_module": "@jupyter-widgets/base",
          "model_name": "LayoutModel",
          "state": {
            "_view_name": "LayoutView",
            "grid_template_rows": null,
            "right": null,
            "justify_content": null,
            "_view_module": "@jupyter-widgets/base",
            "overflow": null,
            "_model_module_version": "1.2.0",
            "_view_count": null,
            "flex_flow": null,
            "width": null,
            "min_width": null,
            "border": null,
            "align_items": null,
            "bottom": null,
            "_model_module": "@jupyter-widgets/base",
            "top": null,
            "grid_column": null,
            "overflow_y": null,
            "overflow_x": null,
            "grid_auto_flow": null,
            "grid_area": null,
            "grid_template_columns": null,
            "flex": null,
            "_model_name": "LayoutModel",
            "justify_items": null,
            "grid_row": null,
            "max_height": null,
            "align_content": null,
            "visibility": null,
            "align_self": null,
            "height": null,
            "min_height": null,
            "padding": null,
            "grid_auto_rows": null,
            "grid_gap": null,
            "max_width": null,
            "order": null,
            "_view_module_version": "1.2.0",
            "grid_template_areas": null,
            "object_position": null,
            "object_fit": null,
            "grid_auto_columns": null,
            "margin": null,
            "display": null,
            "left": null
          }
        },
        "d16f7f04527045f6ac045e2f217adab8": {
          "model_module": "@jupyter-widgets/controls",
          "model_name": "DescriptionStyleModel",
          "state": {
            "_view_name": "StyleView",
            "_model_name": "DescriptionStyleModel",
            "description_width": "",
            "_view_module": "@jupyter-widgets/base",
            "_model_module_version": "1.5.0",
            "_view_count": null,
            "_view_module_version": "1.2.0",
            "_model_module": "@jupyter-widgets/controls"
          }
        },
        "48eaf90eddc649259903117cb0d85be1": {
          "model_module": "@jupyter-widgets/base",
          "model_name": "LayoutModel",
          "state": {
            "_view_name": "LayoutView",
            "grid_template_rows": null,
            "right": null,
            "justify_content": null,
            "_view_module": "@jupyter-widgets/base",
            "overflow": null,
            "_model_module_version": "1.2.0",
            "_view_count": null,
            "flex_flow": null,
            "width": null,
            "min_width": null,
            "border": null,
            "align_items": null,
            "bottom": null,
            "_model_module": "@jupyter-widgets/base",
            "top": null,
            "grid_column": null,
            "overflow_y": null,
            "overflow_x": null,
            "grid_auto_flow": null,
            "grid_area": null,
            "grid_template_columns": null,
            "flex": null,
            "_model_name": "LayoutModel",
            "justify_items": null,
            "grid_row": null,
            "max_height": null,
            "align_content": null,
            "visibility": null,
            "align_self": null,
            "height": null,
            "min_height": null,
            "padding": null,
            "grid_auto_rows": null,
            "grid_gap": null,
            "max_width": null,
            "order": null,
            "_view_module_version": "1.2.0",
            "grid_template_areas": null,
            "object_position": null,
            "object_fit": null,
            "grid_auto_columns": null,
            "margin": null,
            "display": null,
            "left": null
          }
        }
      }
    }
  },
  "cells": [
    {
      "cell_type": "markdown",
      "metadata": {
        "id": "-qFKEKawzgWK"
      },
      "source": [
        "# <img src=\"../images/sberbank.png\">\n",
        "# <center> Лабораторная 3 </center>\n",
        "## <center> Предсказание пола клиента по транзакциям</center>\n",
        "\n",
        "## Описание задачи \n",
        "### В роли метрики выступает [ROC AUC](https://dyakonov.org/2017/07/28/auc-roc-%D0%BF%D0%BB%D0%BE%D1%89%D0%B0%D0%B4%D1%8C-%D0%BF%D0%BE%D0%B4-%D0%BA%D1%80%D0%B8%D0%B2%D0%BE%D0%B9-%D0%BE%D1%88%D0%B8%D0%B1%D0%BE%D0%BA/), который и нужно будет оптимизировать."
      ]
    },
    {
      "cell_type": "code",
      "metadata": {
        "ExecuteTime": {
          "end_time": "2019-03-05T17:34:52.054851Z",
          "start_time": "2019-03-05T17:34:51.515762Z"
        },
        "colab": {
          "base_uri": "https://localhost:8080/"
        },
        "id": "mvqulVCszgWc",
        "outputId": "aa38dc51-0027-4755-b3e2-f3c4f9043096"
      },
      "source": [
        "import pandas as pd\n",
        "import numpy as np\n",
        "import xgboost as xgb\n",
        "import re\n",
        "import matplotlib.pyplot as plt\n",
        "\n",
        "from tqdm._tqdm_notebook import tqdm_notebook\n",
        "from warnings import filterwarnings\n",
        "from google.colab import drive\n",
        "\n",
        "drive.mount('/content/drive')\n",
        "%matplotlib inline\n",
        "filterwarnings('ignore')"
      ],
      "execution_count": 2,
      "outputs": [
        {
          "output_type": "stream",
          "text": [
            "/usr/local/lib/python3.7/dist-packages/ipykernel_launcher.py:7: TqdmDeprecationWarning: This function will be removed in tqdm==5.0.0\n",
            "Please use `tqdm.notebook.*` instead of `tqdm._tqdm_notebook.*`\n",
            "  import sys\n"
          ],
          "name": "stderr"
        },
        {
          "output_type": "stream",
          "text": [
            "Mounted at /content/drive\n"
          ],
          "name": "stdout"
        }
      ]
    },
    {
      "cell_type": "code",
      "metadata": {
        "ExecuteTime": {
          "end_time": "2019-03-05T17:34:58.314241Z",
          "start_time": "2019-03-05T17:34:52.056205Z"
        },
        "scrolled": true,
        "id": "7qweDNUlzgWk"
      },
      "source": [
        "# Считываем данные\n",
        "tr_mcc_codes = pd.read_csv('/content/drive/MyDrive/data/tr_mcc_codes.csv', sep=';', index_col='mcc_code')\n",
        "tr_types = pd.read_csv('/content/drive/MyDrive/data/tr_types.csv', sep=';', index_col='tr_type')\n",
        "\n",
        "transactions = pd.read_csv('/content/drive/MyDrive/data/transactions.csv', index_col='customer_id')\n",
        "gender_train = pd.read_csv('/content/drive/MyDrive/data/gender_train.csv', index_col='customer_id')\n",
        "gender_test = pd.read_csv('/content/drive/MyDrive/data/gender_test.csv', index_col='customer_id')\n",
        "transactions_train = transactions.join(gender_train, how='inner')\n",
        "transactions_test = transactions.join(gender_test, how='inner')\n",
        "\n",
        "del transactions"
      ],
      "execution_count": 3,
      "outputs": []
    },
    {
      "cell_type": "code",
      "metadata": {
        "ExecuteTime": {
          "end_time": "2019-03-05T17:34:58.354996Z",
          "start_time": "2019-03-05T17:34:58.315591Z"
        },
        "id": "xEs6aMt3zgWn"
      },
      "source": [
        "# Функции, которыми можно пользоваться для построения классификатора, \n",
        "# оценки его результатов и построение прогноза для тестовой части пользователей\n",
        "\n",
        "# Cross-validation score (среднее значение метрики ROC AUC на тренировочных данных)\n",
        "def cv_score(params, train, y_true):\n",
        "    cv_res=xgb.cv(params, xgb.DMatrix(train, y_true),\n",
        "                  early_stopping_rounds=10, maximize=True, \n",
        "                  num_boost_round=10000, nfold=5, stratified=True)\n",
        "    index_argmax = cv_res['test-auc-mean'].argmax()\n",
        "    print('Cross-validation, ROC AUC: {:.3f}+-{:.3f}, Trees: {}'.format(cv_res.loc[index_argmax]['test-auc-mean'],\n",
        "                                                                        cv_res.loc[index_argmax]['test-auc-std'],\n",
        "                                                                        index_argmax))\n",
        "\n",
        "# Построение модели + возврат результатов классификации тестовых пользователей\n",
        "def fit_predict(params, num_trees, train, test, target):\n",
        "    params['learning_rate'] = params['eta']\n",
        "    clf = xgb.train(params, xgb.DMatrix(train.values, target, feature_names=list(train.columns)), \n",
        "                    num_boost_round=num_trees, maximize=True)\n",
        "    y_pred = clf.predict(xgb.DMatrix(test.values, feature_names=list(train.columns)))\n",
        "    submission = pd.DataFrame(index=test.index, data=y_pred, columns=['probability'])\n",
        "    return clf, submission\n",
        "\n",
        "# Отрисовка важности переменных. Важность переменной - количество разбиений выборки, \n",
        "# в которых участвует данная переменная. Чем больше - тем она, вероятно, лучше \n",
        "def draw_feature_importances(clf, top_k=10):\n",
        "    plt.figure(figsize=(10, 10))\n",
        "    \n",
        "    importances = dict(sorted(clf.get_score().items(), key=lambda x: x[1])[-top_k:])\n",
        "    y_pos = np.arange(len(importances))\n",
        "    \n",
        "    plt.barh(y_pos, list(importances.values()), align='center', color='green')\n",
        "    plt.yticks(y_pos, importances.keys(), fontsize=12)\n",
        "    plt.xticks(fontsize=12)\n",
        "    plt.xlabel('Feature importance', fontsize=15)\n",
        "    plt.title('Features importances, Sberbank Gender Prediction', fontsize=18)\n",
        "    plt.ylim(-0.5, len(importances) - 0.5)\n",
        "    plt.show()"
      ],
      "execution_count": 4,
      "outputs": []
    },
    {
      "cell_type": "markdown",
      "metadata": {
        "id": "xpCk73qqzgWo"
      },
      "source": [
        "### Так как код для оценки модели на тренировочных данных и её применения на тестовых данных уже дан, то мы будем работать над тем, чтобы создать переменные для улучшения результатов моделирования. \n",
        "\n",
        "### (!) В рамках данного задания Вы можете делать всё, что угодно - использовать другие алгоритмы и/или их комбинации, подбирать гиперпараметры своих моделей, отбирать переменые, etc. Мы создали шаблон для простоты и для Вашего понимания верхнеуровневого процесса разработки модели, опустив при этом большое число деталей."
      ]
    },
    {
      "cell_type": "markdown",
      "metadata": {
        "id": "ZqSbpjLUzgWq"
      },
      "source": [
        "## Basic features\n",
        "Начнём с того, что сформируем базовые переменные по каждому пользователю. На этом этапе будем использовать стандартные агрегации, посчитанные на расходах и приходах клиента:\n",
        "- минимум\n",
        "- максимум\n",
        "- среднее\n",
        "- медиана\n",
        "- среднеквадратичное отклонение\n",
        "- количество\n",
        "\n",
        "Также параметры модели выберем стандартные, запишем их в словарь params, и будем использовать для дальнейшего построения модели (не забывайте, что с этим Вы можете тоже экспериментировать)."
      ]
    },
    {
      "cell_type": "code",
      "metadata": {
        "ExecuteTime": {
          "end_time": "2019-03-05T17:34:58.362104Z",
          "start_time": "2019-03-05T17:34:58.356308Z"
        },
        "id": "nTiXp64ozgWq"
      },
      "source": [
        "params = {\n",
        "    'eta': 0.1,\n",
        "    'max_depth': 3,\n",
        "    'subsample': 0.8,\n",
        "    'colsample_bytree': 0.8,\n",
        "    \n",
        "    'gamma': 0,\n",
        "    'lambda': 0,\n",
        "    'alpha': 0,\n",
        "    'min_child_weight': 0,\n",
        "    \n",
        "    'eval_metric': 'auc',\n",
        "    'objective': 'binary:logistic' ,\n",
        "    'booster': 'gbtree',\n",
        "    'njobs': -1,\n",
        "    'tree_method': 'approx'\n",
        "}"
      ],
      "execution_count": 5,
      "outputs": []
    },
    {
      "cell_type": "code",
      "metadata": {
        "ExecuteTime": {
          "end_time": "2019-03-05T17:35:41.272300Z",
          "start_time": "2019-03-05T17:34:58.363622Z"
        },
        "colab": {
          "base_uri": "https://localhost:8080/",
          "height": 114,
          "referenced_widgets": [
            "564c2ca9f465462db83071470eeb5d05",
            "225fb404b3bd4091b249cf66ddd2a144",
            "e8b84a5f509a4225bf925b8554ca0972",
            "da4ba485b04644388bdb0f65d241d34f",
            "18d2ab81b3d942aa954d4c6130aa215f",
            "853216997a984e9f96e916d19d646b8a",
            "0e5dc984f599451bb70e3ace11a0560f",
            "0e3c93fcc0a2441da7fe19bccf86128b",
            "b1d71140454446a696f99753169c9dd3",
            "34ef4224472645538ce10a32154fe90b",
            "81bafcb86a66473e86c82fc36996b5bb",
            "f5f0d9ab2f9f4a47921e53f10f31b3b4",
            "415f3bbedaee48df934f1992b1019a36",
            "7a869f00f3ab49a6ab1399eeaf063e4d",
            "4004632091824bfda6e5341d7a3f41a9",
            "cfdf4338eaeb4f419543b0a575ac3f7c"
          ]
        },
        "id": "p8dTaM3czgWs",
        "outputId": "6660a1d3-ed82-4459-a611-81fc823fc287"
      },
      "source": [
        "tqdm_notebook.pandas(desc=\"Progress:\")\n",
        "\n",
        "def features_creation_basic(x): \n",
        "    features = []\n",
        "    features.append(pd.Series(x[x['amount']>0]['amount'].agg(['min', 'max', 'mean', 'median', 'std', 'count'])\\\n",
        "                                                        .add_prefix('positive_transactions_')))\n",
        "    features.append(pd.Series(x[x['amount']<0]['amount'].agg(['min', 'max', 'mean', 'median', 'std', 'count'])\\\n",
        "                                                        .add_prefix('negative_transactions_')))\n",
        " \n",
        "    return pd.concat(features)\n",
        "\n",
        "data_train = transactions_train.groupby(transactions_train.index).progress_apply(features_creation_basic)\n",
        "data_test = transactions_test.groupby(transactions_test.index).progress_apply(features_creation_basic)"
      ],
      "execution_count": 6,
      "outputs": [
        {
          "output_type": "display_data",
          "data": {
            "application/vnd.jupyter.widget-view+json": {
              "model_id": "564c2ca9f465462db83071470eeb5d05",
              "version_minor": 0,
              "version_major": 2
            },
            "text/plain": [
              "HBox(children=(FloatProgress(value=0.0, description='Progress:', max=8400.0, style=ProgressStyle(description_w…"
            ]
          },
          "metadata": {
            "tags": []
          }
        },
        {
          "output_type": "stream",
          "text": [
            "\n"
          ],
          "name": "stdout"
        },
        {
          "output_type": "display_data",
          "data": {
            "application/vnd.jupyter.widget-view+json": {
              "model_id": "b1d71140454446a696f99753169c9dd3",
              "version_minor": 0,
              "version_major": 2
            },
            "text/plain": [
              "HBox(children=(FloatProgress(value=0.0, description='Progress:', max=3600.0, style=ProgressStyle(description_w…"
            ]
          },
          "metadata": {
            "tags": []
          }
        },
        {
          "output_type": "stream",
          "text": [
            "\n"
          ],
          "name": "stdout"
        }
      ]
    },
    {
      "cell_type": "code",
      "metadata": {
        "ExecuteTime": {
          "end_time": "2019-03-05T17:35:45.011046Z",
          "start_time": "2019-03-05T17:35:41.273326Z"
        },
        "colab": {
          "base_uri": "https://localhost:8080/"
        },
        "id": "CbKA1OVgzgWu",
        "outputId": "89df1e5f-a9f9-409a-89c2-5694cbd68bd6"
      },
      "source": [
        "target = data_train.join(gender_train, how='inner')['gender']\n",
        "cv_score(params, data_train, target)"
      ],
      "execution_count": 7,
      "outputs": [
        {
          "output_type": "stream",
          "text": [
            "Cross-validation, ROC AUC: 0.619+-0.004, Trees: 55\n"
          ],
          "name": "stdout"
        }
      ]
    },
    {
      "cell_type": "code",
      "metadata": {
        "ExecuteTime": {
          "end_time": "2019-03-05T17:35:45.714620Z",
          "start_time": "2019-03-05T17:35:45.018570Z"
        },
        "id": "sZumuTyQzgWv"
      },
      "source": [
        "### Число деревьев для XGBoost имеет смысл выставлять по результатам на кросс-валидации \n",
        "clf, submission = fit_predict(params, 70, data_train, data_test, target)"
      ],
      "execution_count": 8,
      "outputs": []
    },
    {
      "cell_type": "code",
      "metadata": {
        "ExecuteTime": {
          "end_time": "2019-03-05T17:35:45.897370Z",
          "start_time": "2019-03-05T17:35:45.719320Z"
        },
        "scrolled": false,
        "colab": {
          "base_uri": "https://localhost:8080/",
          "height": 634
        },
        "id": "tafX-uF4zgWw",
        "outputId": "d3e52cdb-8cce-4493-e343-19e77a508d65"
      },
      "source": [
        "draw_feature_importances(clf, 10)"
      ],
      "execution_count": 9,
      "outputs": [
        {
          "output_type": "display_data",
          "data": {
            "image/png": "[encoded data removed]",
            "text/plain": [
              "<Figure size 720x720 with 1 Axes>"
            ]
          },
          "metadata": {
            "tags": [],
            "needs_background": "light"
          }
        }
      ]
    },
    {
      "cell_type": "code",
      "metadata": {
        "id": "aYjxnIPMzgWx"
      },
      "source": [
        "submission.to_csv('/content/drive/MyDrive/data/basic_features_submission.csv')"
      ],
      "execution_count": 12,
      "outputs": []
    },
    {
      "cell_type": "markdown",
      "metadata": {
        "id": "-Q7SfHOxzgWy"
      },
      "source": [
        "### Видим, что результат на кросс-валидации - 62.5% ROC AUC."
      ]
    },
    {
      "cell_type": "markdown",
      "metadata": {
        "id": "gbnl5DDMzgWz"
      },
      "source": [
        "## Advanced features\n",
        "Добавим дополнительные переменные по каждому пользователю в модель. <br>\n",
        "Для этого будем анализировать дни недели, часы и состояние дня/ночи во время покупки - в каждом из случаев будем считать частоту транзакций в соответствующей категории относитеьно всех остальных категорий. <br>\n",
        "То есть если, например, клиент в 70% случае совершал ночные траты, то мы получим вектор [0.7, 0.3] для этого случая в качестве частот транзакций ночью/днём."
      ]
    },
    {
      "cell_type": "code",
      "metadata": {
        "ExecuteTime": {
          "end_time": "2019-03-05T17:35:57.677748Z",
          "start_time": "2019-03-05T17:35:45.921444Z"
        },
        "id": "JZJL5dyNzgWz"
      },
      "source": [
        "for df in [transactions_train, transactions_test]:\n",
        "    df['day'] = df['tr_datetime'].str.split().apply(lambda x: int(x[0]) % 7)\n",
        "    df['hour'] = df['tr_datetime'].apply(lambda x: re.search(' \\d*', x).group(0)).astype(int)\n",
        "    df['night'] = ~df['hour'].between(6, 22).astype(int)"
      ],
      "execution_count": 13,
      "outputs": []
    },
    {
      "cell_type": "code",
      "metadata": {
        "ExecuteTime": {
          "end_time": "2019-03-05T17:35:57.687397Z",
          "start_time": "2019-03-05T17:35:57.678823Z"
        },
        "id": "5FiqGzX6zgW0"
      },
      "source": [
        "def features_creation_advanced(x): \n",
        "    features = []\n",
        "    features.append(pd.Series(x['day'].value_counts(normalize=True).add_prefix('day_')))\n",
        "    features.append(pd.Series(x['hour'].value_counts(normalize=True).add_prefix('hour_')))\n",
        "    features.append(pd.Series(x['night'].value_counts(normalize=True).add_prefix('night_')))\n",
        "    features.append(pd.Series(x[x['amount']>0]['amount'].agg(['min', 'max', 'mean', 'median', 'std', 'count'])\\\n",
        "                                                        .add_prefix('positive_transactions_')))\n",
        "    features.append(pd.Series(x[x['amount']<0]['amount'].agg(['min', 'max', 'mean', 'median', 'std', 'count'])\\\n",
        "                                                        .add_prefix('negative_transactions_')))\n",
        " \n",
        "    return pd.concat(features)"
      ],
      "execution_count": 14,
      "outputs": []
    },
    {
      "cell_type": "code",
      "metadata": {
        "ExecuteTime": {
          "end_time": "2019-03-05T17:37:19.784321Z",
          "start_time": "2019-03-05T17:35:57.688448Z"
        },
        "colab": {
          "base_uri": "https://localhost:8080/",
          "height": 114,
          "referenced_widgets": [
            "4f93b86a5e1e48d5b7ec2285abc949c5",
            "6293fce6e74e47a981c97936fc5233e5",
            "387eaa9337a1483ba588c34b93ec79e6",
            "43a794994d024e2c9e137aa614a7bbb1",
            "61dd9303f36f4245a126451850d231ad",
            "ea8b370328bf4a2f996480a2fbe8ee8d",
            "6066248225184ea6a99c6b513f8f6a85",
            "67cadc7b94144bf1812ed2c74005efb7",
            "ccd50b1d63294918b423dd2ee06b442a",
            "0f8fd4138cba4f098f607b160e03ae1e",
            "7af97f278b794e46912f075dd8edc7c9",
            "d94fdaa178694784a85f89ec4e98dd20",
            "03f6fb15a6b54820a5cc87b8c9eecb34",
            "7bede184ae8b463f86726e5917018796",
            "ed4b0145ae924564a24b8759f9b01a11",
            "ff52ab2d3d16411ba9570e1d636462a4"
          ]
        },
        "id": "iGLgjfi7zgW1",
        "outputId": "b7e821ec-239c-4a1f-bb73-162f08bd17f8"
      },
      "source": [
        "data_train = transactions_train.groupby(transactions_train.index)\\\n",
        "                               .progress_apply(features_creation_advanced).unstack(-1)\n",
        "data_test = transactions_test.groupby(transactions_test.index)\\\n",
        "                             .progress_apply(features_creation_advanced).unstack(-1)"
      ],
      "execution_count": 15,
      "outputs": [
        {
          "output_type": "display_data",
          "data": {
            "application/vnd.jupyter.widget-view+json": {
              "model_id": "4f93b86a5e1e48d5b7ec2285abc949c5",
              "version_minor": 0,
              "version_major": 2
            },
            "text/plain": [
              "HBox(children=(FloatProgress(value=0.0, description='Progress:', max=8400.0, style=ProgressStyle(description_w…"
            ]
          },
          "metadata": {
            "tags": []
          }
        },
        {
          "output_type": "stream",
          "text": [
            "\n"
          ],
          "name": "stdout"
        },
        {
          "output_type": "display_data",
          "data": {
            "application/vnd.jupyter.widget-view+json": {
              "model_id": "ccd50b1d63294918b423dd2ee06b442a",
              "version_minor": 0,
              "version_major": 2
            },
            "text/plain": [
              "HBox(children=(FloatProgress(value=0.0, description='Progress:', max=3600.0, style=ProgressStyle(description_w…"
            ]
          },
          "metadata": {
            "tags": []
          }
        },
        {
          "output_type": "stream",
          "text": [
            "\n"
          ],
          "name": "stdout"
        }
      ]
    },
    {
      "cell_type": "code",
      "metadata": {
        "ExecuteTime": {
          "end_time": "2019-03-05T17:37:27.200528Z",
          "start_time": "2019-03-05T17:37:19.785535Z"
        },
        "colab": {
          "base_uri": "https://localhost:8080/"
        },
        "id": "F7NMeWAfzgW1",
        "outputId": "e6687056-8582-4790-deed-a403b47d76fa"
      },
      "source": [
        "target = data_train.join(gender_train, how='inner')['gender']\n",
        "cv_score(params, data_train, target)"
      ],
      "execution_count": 16,
      "outputs": [
        {
          "output_type": "stream",
          "text": [
            "Cross-validation, ROC AUC: 0.682+-0.007, Trees: 175\n"
          ],
          "name": "stdout"
        }
      ]
    },
    {
      "cell_type": "code",
      "metadata": {
        "ExecuteTime": {
          "end_time": "2019-03-05T17:37:28.307548Z",
          "start_time": "2019-03-05T17:37:27.205214Z"
        },
        "id": "GaZhkCluzgW2"
      },
      "source": [
        "### Число деревьев для XGBoost имеет смысл выятавлять по результатам на кросс-валидации \n",
        "clf, submission = fit_predict(params, 70, data_train, data_test, target)"
      ],
      "execution_count": 17,
      "outputs": []
    },
    {
      "cell_type": "code",
      "metadata": {
        "ExecuteTime": {
          "end_time": "2019-03-05T17:37:28.426836Z",
          "start_time": "2019-03-05T17:37:28.308620Z"
        },
        "scrolled": false,
        "colab": {
          "base_uri": "https://localhost:8080/",
          "height": 634
        },
        "id": "Utp1iRBtzgW2",
        "outputId": "7637a563-986c-42c1-8bf9-69657f5483c0"
      },
      "source": [
        "draw_feature_importances(clf, 10)"
      ],
      "execution_count": 18,
      "outputs": [
        {
          "output_type": "display_data",
          "data": {
            "image/png": "[encoded data removed]",
            "text/plain": [
              "<Figure size 720x720 with 1 Axes>"
            ]
          },
          "metadata": {
            "tags": [],
            "needs_background": "light"
          }
        }
      ]
    },
    {
      "cell_type": "markdown",
      "metadata": {
        "heading_collapsed": true,
        "id": "0i2cHGF1zgW3"
      },
      "source": [
        "### Добавление новых переменных улучшило наши результаты ROC AUC с 62.5% до 68.2%, на тестовой выборке результат будет аналогичным, так что мы явно не переобучились. При этом есть куда стремиться!"
      ]
    },
    {
      "cell_type": "markdown",
      "metadata": {
        "id": "ybMxoDgizgW3"
      },
      "source": [
        ""
      ]
    },
    {
      "cell_type": "code",
      "metadata": {
        "ExecuteTime": {
          "end_time": "2019-03-05T17:37:28.448839Z",
          "start_time": "2019-03-05T17:37:28.438234Z"
        },
        "id": "RepzBNSbzgW4"
      },
      "source": [
        "submission.to_csv('/content/drive/MyDrive/data/submission_advanced.csv')"
      ],
      "execution_count": 19,
      "outputs": []
    },
    {
      "cell_type": "markdown",
      "metadata": {
        "id": "oIQYSO4ozgW4"
      },
      "source": [
        "# (!) Цель задания:\n",
        "## Полученная модель должна иметь ROC AUC на Public-части тестовой выборки (на лидерборде) не менее 80%."
      ]
    },
    {
      "cell_type": "code",
      "metadata": {
        "colab": {
          "base_uri": "https://localhost:8080/"
        },
        "id": "Z7hsoyeFLJuE",
        "outputId": "132b767f-8e26-4c12-8ebd-e736ee322f47"
      },
      "source": [
        "transactions_train.columns"
      ],
      "execution_count": 20,
      "outputs": [
        {
          "output_type": "execute_result",
          "data": {
            "text/plain": [
              "Index(['tr_datetime', 'mcc_code', 'tr_type', 'amount', 'term_id', 'gender',\n",
              "       'day', 'hour', 'night'],\n",
              "      dtype='object')"
            ]
          },
          "metadata": {
            "tags": []
          },
          "execution_count": 20
        }
      ]
    },
    {
      "cell_type": "code",
      "metadata": {
        "id": "lpizoO67LQFB"
      },
      "source": [
        "def features_creation(x): \n",
        "\n",
        "    features = []\n",
        "    features.append(pd.Series(x['day'].value_counts(normalize=True).add_prefix('day_')))\n",
        "    features.append(pd.Series(x['hour'].value_counts(normalize=True).add_prefix('hour_')))\n",
        "    features.append(pd.Series(x['night'].value_counts(normalize=True).add_prefix('night_')))\n",
        "    features.append(pd.Series(x[x['amount']>0]['amount'].agg(['min', 'max', 'mean', 'median', 'std', 'count'])\\\n",
        "                                                        .add_prefix('positive_transactions_')))\n",
        "    features.append(pd.Series(x[x['amount']<0]['amount'].agg(['min', 'max', 'mean', 'median', 'std', 'count'])\\\n",
        "                                                        .add_prefix('negative_transactions_')))\n",
        "\n",
        "    tmp = x.groupby('mcc_code')['amount'].count()\n",
        "    tmp.index = tmp.index.map(lambda x: 'mcc_code_count' + str(x))\n",
        "    features.append(tmp)\n",
        "\n",
        "    tmp = x.groupby('tr_type')['amount'].count()\n",
        "    tmp.index = tmp.index.map(lambda x: 'tr_type_count' + str(x))\n",
        "    features.append(tmp)\n",
        "\n",
        "    tmp = x.groupby('mcc_code')['amount'].mean()\n",
        "    tmp.index = tmp.index.map(lambda x: 'mcc_code_mean' + str(x))\n",
        "    features.append(tmp)\n",
        "\n",
        "    tmp = x.groupby('tr_type')['amount'].mean()\n",
        "    tmp.index = tmp.index.map(lambda x: 'tr_type_mean' + str(x))\n",
        "    features.append(tmp)\n",
        "\n",
        "    return pd.concat(features)"
      ],
      "execution_count": 21,
      "outputs": []
    },
    {
      "cell_type": "code",
      "metadata": {
        "colab": {
          "base_uri": "https://localhost:8080/",
          "height": 66,
          "referenced_widgets": [
            "79a59c2e31384514ad1279f796d56bfe",
            "fe0f86c9c65a4f4c8e10691ed951eb21",
            "6561b8185aa64391ac1d0de37334412e",
            "247d94cb5c3748e7a4618d1683eafe5f",
            "f5314a8d01884f24918efd346cefaf13",
            "5e09f9ba8ae746cd9388a566082aaf22",
            "d16f7f04527045f6ac045e2f217adab8",
            "48eaf90eddc649259903117cb0d85be1"
          ]
        },
        "id": "dJaQwsnFLURb",
        "outputId": "946f582a-13a5-4a74-8573-8b3b4f45d6c0"
      },
      "source": [
        "data = transactions_train.groupby(transactions_train.index).progress_apply(features_creation).unstack()"
      ],
      "execution_count": 22,
      "outputs": [
        {
          "output_type": "display_data",
          "data": {
            "application/vnd.jupyter.widget-view+json": {
              "model_id": "79a59c2e31384514ad1279f796d56bfe",
              "version_minor": 0,
              "version_major": 2
            },
            "text/plain": [
              "HBox(children=(FloatProgress(value=0.0, description='Progress:', max=8400.0, style=ProgressStyle(description_w…"
            ]
          },
          "metadata": {
            "tags": []
          }
        },
        {
          "output_type": "stream",
          "text": [
            "\n"
          ],
          "name": "stdout"
        }
      ]
    },
    {
      "cell_type": "code",
      "metadata": {
        "colab": {
          "base_uri": "https://localhost:8080/"
        },
        "id": "meOeHlLGLw9u",
        "outputId": "82de0a6c-a1e3-4a63-9853-1ff45afbb4ac"
      },
      "source": [
        "target = data.join(gender_train, how='inner')['gender']\n",
        "cv_score(params, data, target)"
      ],
      "execution_count": 23,
      "outputs": [
        {
          "output_type": "stream",
          "text": [
            "Cross-validation, ROC AUC: 0.878+-0.006, Trees: 405\n"
          ],
          "name": "stdout"
        }
      ]
    },
    {
      "cell_type": "markdown",
      "metadata": {
        "id": "mpa53utoMKux"
      },
      "source": [
        "Полученная модель имеет ROC AUC на Public-части тестовой выборки (на лидерборде) не менее 80%, а именно порядка 87.8%. Это удовлетворяет поставленному условию."
      ]
    }
  ]
}